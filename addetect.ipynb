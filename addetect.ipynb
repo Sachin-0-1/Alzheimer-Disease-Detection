{
 "cells": [
  {
   "cell_type": "code",
   "execution_count": 1,
   "id": "ae396d14",
   "metadata": {
    "_cell_guid": "b1076dfc-b9ad-4769-8c92-a6c4dae69d19",
    "_uuid": "8f2839f25d086af736a60e9eeb907d3b93b6e0e5",
    "execution": {
     "iopub.execute_input": "2022-06-06T05:49:13.319397Z",
     "iopub.status.busy": "2022-06-06T05:49:13.318172Z",
     "iopub.status.idle": "2022-06-06T05:49:28.285133Z",
     "shell.execute_reply": "2022-06-06T05:49:28.283814Z"
    },
    "papermill": {
     "duration": 14.979111,
     "end_time": "2022-06-06T05:49:28.288222",
     "exception": false,
     "start_time": "2022-06-06T05:49:13.309111",
     "status": "completed"
    },
    "tags": []
   },
   "outputs": [
    {
     "name": "stdout",
     "output_type": "stream",
     "text": [
      "Collecting split_folders\r\n",
      "  Downloading split_folders-0.5.1-py3-none-any.whl (8.4 kB)\r\n",
      "Installing collected packages: split_folders\r\n",
      "Successfully installed split_folders-0.5.1\r\n",
      "\u001b[33mWARNING: Running pip as the 'root' user can result in broken permissions and conflicting behaviour with the system package manager. It is recommended to use a virtual environment instead: https://pip.pypa.io/warnings/venv\u001b[0m\u001b[33m\r\n",
      "\u001b[0m"
     ]
    }
   ],
   "source": [
    "!pip install split_folders"
   ]
  },
  {
   "cell_type": "code",
   "execution_count": 2,
   "id": "eeb18ecd",
   "metadata": {
    "execution": {
     "iopub.execute_input": "2022-06-06T05:49:28.303489Z",
     "iopub.status.busy": "2022-06-06T05:49:28.303100Z",
     "iopub.status.idle": "2022-06-06T05:49:28.313723Z",
     "shell.execute_reply": "2022-06-06T05:49:28.312806Z"
    },
    "papermill": {
     "duration": 0.020334,
     "end_time": "2022-06-06T05:49:28.315941",
     "exception": false,
     "start_time": "2022-06-06T05:49:28.295607",
     "status": "completed"
    },
    "tags": []
   },
   "outputs": [],
   "source": [
    "import splitfolders"
   ]
  },
  {
   "cell_type": "code",
   "execution_count": 3,
   "id": "e59ffae7",
   "metadata": {
    "execution": {
     "iopub.execute_input": "2022-06-06T05:49:28.329404Z",
     "iopub.status.busy": "2022-06-06T05:49:28.329060Z",
     "iopub.status.idle": "2022-06-06T05:49:36.911399Z",
     "shell.execute_reply": "2022-06-06T05:49:36.910298Z"
    },
    "papermill": {
     "duration": 8.59207,
     "end_time": "2022-06-06T05:49:36.914118",
     "exception": false,
     "start_time": "2022-06-06T05:49:28.322048",
     "status": "completed"
    },
    "tags": []
   },
   "outputs": [],
   "source": [
    "import numpy as np \n",
    "import pandas as pd \n",
    "import time\n",
    "import itertools\n",
    "\n",
    "import os\n",
    "import os.path\n",
    "from   os import path\n",
    "import shutil\n",
    "\n",
    "from sklearn.metrics import confusion_matrix\n",
    "from sklearn.metrics import classification_report\n",
    "\n",
    "import tensorflow as tf\n",
    "import keras_tuner as kt\n",
    "from tensorflow import keras\n",
    "from tensorflow.keras.models import Model\n",
    "from tensorflow.keras import backend, models, layers, Sequential\n",
    "from tensorflow.keras.layers import Input, Concatenate, Dense, Dropout, Flatten, Add\n",
    "from tensorflow.keras.layers import Conv2D, MaxPooling2D\n",
    "from tensorflow.keras.layers import BatchNormalization\n",
    "from tensorflow.keras.callbacks import EarlyStopping\n",
    "from tensorflow.keras.applications import InceptionV3\n"
   ]
  },
  {
   "cell_type": "code",
   "execution_count": 4,
   "id": "d1be3bcf",
   "metadata": {
    "execution": {
     "iopub.execute_input": "2022-06-06T05:49:36.928200Z",
     "iopub.status.busy": "2022-06-06T05:49:36.927548Z",
     "iopub.status.idle": "2022-06-06T05:49:37.359969Z",
     "shell.execute_reply": "2022-06-06T05:49:37.358743Z"
    },
    "papermill": {
     "duration": 0.442065,
     "end_time": "2022-06-06T05:49:37.362609",
     "exception": false,
     "start_time": "2022-06-06T05:49:36.920544",
     "status": "completed"
    },
    "tags": []
   },
   "outputs": [],
   "source": [
    "from skimage import io\n",
    "import matplotlib.pyplot as plt\n",
    "import tensorflow.keras.preprocessing\n",
    "from tensorflow.keras.preprocessing.image import ImageDataGenerator "
   ]
  },
  {
   "cell_type": "code",
   "execution_count": 5,
   "id": "597b6de1",
   "metadata": {
    "execution": {
     "iopub.execute_input": "2022-06-06T05:49:37.378351Z",
     "iopub.status.busy": "2022-06-06T05:49:37.377524Z",
     "iopub.status.idle": "2022-06-06T05:49:37.385488Z",
     "shell.execute_reply": "2022-06-06T05:49:37.384366Z"
    },
    "papermill": {
     "duration": 0.018552,
     "end_time": "2022-06-06T05:49:37.387932",
     "exception": false,
     "start_time": "2022-06-06T05:49:37.369380",
     "status": "completed"
    },
    "tags": []
   },
   "outputs": [],
   "source": [
    "FOLDERS     = ['train','val','test']\n",
    "DIR_INPUT   = '../input/alzheimers-dataset-4-class-of-images/Alzheimer_s Dataset'\n",
    "DIR_WORK    = './'\n",
    "DIR_MODELS  = os.path.join(DIR_WORK,'models')\n",
    "DIR_TRAIN   = os.path.join(DIR_WORK,'train')\n",
    "DIR_VAL     = os.path.join(DIR_WORK,'val')\n",
    "DIR_TEST    = os.path.join(DIR_WORK,'test')\n",
    "CLASS_LIST  = ['MildDememted','ModerateDemented','NonDememted','VeryMildDemented']\n",
    "\n",
    "SEED        = 1999\n",
    "tf.random.set_seed(SEED)\n",
    "np.random.seed(SEED)"
   ]
  },
  {
   "cell_type": "code",
   "execution_count": 6,
   "id": "1db2eb60",
   "metadata": {
    "execution": {
     "iopub.execute_input": "2022-06-06T05:49:37.403514Z",
     "iopub.status.busy": "2022-06-06T05:49:37.403082Z",
     "iopub.status.idle": "2022-06-06T05:49:37.416424Z",
     "shell.execute_reply": "2022-06-06T05:49:37.415186Z"
    },
    "papermill": {
     "duration": 0.026517,
     "end_time": "2022-06-06T05:49:37.421581",
     "exception": false,
     "start_time": "2022-06-06T05:49:37.395064",
     "status": "completed"
    },
    "tags": []
   },
   "outputs": [
    {
     "name": "stdout",
     "output_type": "stream",
     "text": [
      "./models created\n"
     ]
    },
    {
     "data": {
      "text/plain": [
       "'./models'"
      ]
     },
     "execution_count": 6,
     "metadata": {},
     "output_type": "execute_result"
    }
   ],
   "source": [
    "def create_dir(dir_path,folder,verbose=True):\n",
    "    msg = \"\"\n",
    "    folder_path = os.path.join(dir_path,folder)\n",
    "    if not path.exists(folder_path):\n",
    "        try:\n",
    "            os.mkdir(folder_path)\n",
    "            msg = folder_path + ' created'\n",
    "        except OSError as err:\n",
    "            print('Error creating folder:{} with error:{}'.format(folder_path,err))\n",
    "    if verbose:\n",
    "        print(msg)\n",
    "    return folder_path\n",
    "create_dir(DIR_WORK,'models',True)"
   ]
  },
  {
   "cell_type": "code",
   "execution_count": 7,
   "id": "885fbd14",
   "metadata": {
    "execution": {
     "iopub.execute_input": "2022-06-06T05:49:37.437609Z",
     "iopub.status.busy": "2022-06-06T05:49:37.436665Z",
     "iopub.status.idle": "2022-06-06T05:50:11.927278Z",
     "shell.execute_reply": "2022-06-06T05:50:11.926179Z"
    },
    "papermill": {
     "duration": 34.501179,
     "end_time": "2022-06-06T05:50:11.929834",
     "exception": false,
     "start_time": "2022-06-06T05:49:37.428655",
     "status": "completed"
    },
    "tags": []
   },
   "outputs": [
    {
     "name": "stderr",
     "output_type": "stream",
     "text": [
      "Copying files: 5121 files [00:28, 179.11 files/s]\n"
     ]
    }
   ],
   "source": [
    "def resample_train_val_images(input_dir,working_dir,seed=SEED,split = (0.80,0.20)):\n",
    "    dir_test   = os.path.join(input_dir,'test')\n",
    "    dir_train  = os.path.join(input_dir,'train')\n",
    "    for folder in FOLDERS:\n",
    "        if path.exists(os.path.join(working_dir,folder)):\n",
    "            shutil.rmtree(os.path.join(working_dir,folder))\n",
    "            \n",
    "    splitfolders.ratio(dir_train, working_dir, seed=seed, ratio=split)\n",
    "    shutil.copytree(dir_test, os.path.join(working_dir,'test'))\n",
    "    \n",
    "resample_train_val_images(DIR_INPUT,DIR_WORK)"
   ]
  },
  {
   "cell_type": "code",
   "execution_count": 8,
   "id": "3d24997e",
   "metadata": {
    "execution": {
     "iopub.execute_input": "2022-06-06T05:50:11.978802Z",
     "iopub.status.busy": "2022-06-06T05:50:11.978452Z",
     "iopub.status.idle": "2022-06-06T05:50:12.510924Z",
     "shell.execute_reply": "2022-06-06T05:50:12.508421Z"
    },
    "papermill": {
     "duration": 0.559694,
     "end_time": "2022-06-06T05:50:12.513323",
     "exception": false,
     "start_time": "2022-06-06T05:50:11.953629",
     "status": "completed"
    },
    "tags": []
   },
   "outputs": [
    {
     "name": "stdout",
     "output_type": "stream",
     "text": [
      "Found 4095 images belonging to 4 classes.\n",
      "Found 1026 images belonging to 4 classes.\n",
      "Found 1279 images belonging to 4 classes.\n"
     ]
    }
   ],
   "source": [
    "IMG_SIZE = [176,208]\n",
    "BATCH_SIZE = 32\n",
    "\n",
    "train_images = ImageDataGenerator(rescale  = 1./255)\n",
    "val_images   = ImageDataGenerator(rescale  = 1./255)\n",
    "test_images  = ImageDataGenerator(rescale  = 1./255)\n",
    "\n",
    "\n",
    "train_gen =train_images.flow_from_directory(\n",
    "    DIR_TRAIN,\n",
    "    target_size = IMG_SIZE,\n",
    "    batch_size  = BATCH_SIZE,\n",
    "    class_mode  = 'categorical',\n",
    "    color_mode  = 'rgb',        \n",
    "    seed        = SEED \n",
    ")\n",
    "\n",
    "val_gen = val_images.flow_from_directory(\n",
    "    DIR_VAL,\n",
    "    target_size = IMG_SIZE,\n",
    "    batch_size  = BATCH_SIZE,\n",
    "    class_mode  = 'categorical',\n",
    "    color_mode  = 'rgb',        \n",
    "    seed        = SEED\n",
    ")\n",
    "\n",
    "test_gen = test_images.flow_from_directory(\n",
    "    DIR_TEST,\n",
    "    target_size = IMG_SIZE,\n",
    "    batch_size  = BATCH_SIZE,\n",
    "    class_mode  = 'categorical',\n",
    "    color_mode  = 'rgb',         \n",
    "    seed        = SEED,\n",
    "    shuffle     = False\n",
    ")\n"
   ]
  },
  {
   "cell_type": "code",
   "execution_count": 9,
   "id": "b76f00a5",
   "metadata": {
    "execution": {
     "iopub.execute_input": "2022-06-06T05:50:12.560278Z",
     "iopub.status.busy": "2022-06-06T05:50:12.559813Z",
     "iopub.status.idle": "2022-06-06T05:50:12.569527Z",
     "shell.execute_reply": "2022-06-06T05:50:12.567948Z"
    },
    "papermill": {
     "duration": 0.035682,
     "end_time": "2022-06-06T05:50:12.571760",
     "exception": false,
     "start_time": "2022-06-06T05:50:12.536078",
     "status": "completed"
    },
    "tags": []
   },
   "outputs": [],
   "source": [
    "def freeze_layers(base,conv_num=\"conv5\",block_num=1,max_block_num=16,trainable_layers='some'):\n",
    "\n",
    "    if trainable_layers=='none':\n",
    "        base.trainable = False\n",
    "        print(\"No Layers Trainable: Using Base Model Weights\")\n",
    "    if trainable_layers=='all':\n",
    "        base.trainable =True\n",
    "        print(\"All Layers Trainable: Base Model will be fully trained\")\n",
    "    \n",
    "    if trainable_layers=='some':\n",
    "        \n",
    "        print(\"Some Layers of the Model will be Trainable:\")\n",
    "        base.trainable = False\n",
    "        print('layer','\\t\\t\\t','trainable')\n",
    "        for block in range(block_num,max_block_num+1):\n",
    "            for layer in conv_base.layers:\n",
    "                if block>=block_num:\n",
    "                    if conv_num +\"_block\"+str(block) in layer.name:\n",
    "                        layer.trainable = True\n",
    "                        print(layer.name,'\\t',layer.trainable)\n",
    "                    \n",
    "                    "
   ]
  },
  {
   "cell_type": "code",
   "execution_count": 10,
   "id": "94a27bc5",
   "metadata": {
    "execution": {
     "iopub.execute_input": "2022-06-06T05:50:12.619264Z",
     "iopub.status.busy": "2022-06-06T05:50:12.618843Z",
     "iopub.status.idle": "2022-06-06T05:50:12.626501Z",
     "shell.execute_reply": "2022-06-06T05:50:12.625438Z"
    },
    "papermill": {
     "duration": 0.033397,
     "end_time": "2022-06-06T05:50:12.628615",
     "exception": false,
     "start_time": "2022-06-06T05:50:12.595218",
     "status": "completed"
    },
    "tags": []
   },
   "outputs": [],
   "source": [
    "def build_transfer_model(conv_base,dropout,dense_node,learn_rate,metric):\n",
    "    backend.clear_session()\n",
    "    model = Sequential()\n",
    "    model.add(conv_base)\n",
    "    model.add(Dropout(dropout))\n",
    "    model.add(BatchNormalization())\n",
    "    model.add(Flatten())\n",
    "    model.add(Dense(dense_node,activation='relu'))\n",
    "    model.add(Dense(4,activation='softmax'))\n",
    "    model.compile(\n",
    "        optimizer = tensorflow.keras.optimizers.Adam(lr=learn_rate),\n",
    "        loss      = 'categorical_crossentropy', \n",
    "        metrics   = metric ) \n",
    "    model.summary()\n",
    "    return model"
   ]
  },
  {
   "cell_type": "code",
   "execution_count": 11,
   "id": "f32d6083",
   "metadata": {
    "execution": {
     "iopub.execute_input": "2022-06-06T05:50:12.676065Z",
     "iopub.status.busy": "2022-06-06T05:50:12.675279Z",
     "iopub.status.idle": "2022-06-06T05:50:16.836869Z",
     "shell.execute_reply": "2022-06-06T05:50:16.835782Z"
    },
    "papermill": {
     "duration": 4.188863,
     "end_time": "2022-06-06T05:50:16.840095",
     "exception": false,
     "start_time": "2022-06-06T05:50:12.651232",
     "status": "completed"
    },
    "tags": []
   },
   "outputs": [
    {
     "name": "stderr",
     "output_type": "stream",
     "text": [
      "2022-06-06 05:50:12.797008: I tensorflow/stream_executor/cuda/cuda_gpu_executor.cc:937] successful NUMA node read from SysFS had negative value (-1), but there must be at least one NUMA node, so returning NUMA node zero\n",
      "2022-06-06 05:50:12.998254: I tensorflow/stream_executor/cuda/cuda_gpu_executor.cc:937] successful NUMA node read from SysFS had negative value (-1), but there must be at least one NUMA node, so returning NUMA node zero\n",
      "2022-06-06 05:50:12.999512: I tensorflow/stream_executor/cuda/cuda_gpu_executor.cc:937] successful NUMA node read from SysFS had negative value (-1), but there must be at least one NUMA node, so returning NUMA node zero\n",
      "2022-06-06 05:50:13.001267: I tensorflow/core/platform/cpu_feature_guard.cc:142] This TensorFlow binary is optimized with oneAPI Deep Neural Network Library (oneDNN) to use the following CPU instructions in performance-critical operations:  AVX2 FMA\n",
      "To enable them in other operations, rebuild TensorFlow with the appropriate compiler flags.\n",
      "2022-06-06 05:50:13.001720: I tensorflow/stream_executor/cuda/cuda_gpu_executor.cc:937] successful NUMA node read from SysFS had negative value (-1), but there must be at least one NUMA node, so returning NUMA node zero\n",
      "2022-06-06 05:50:13.002813: I tensorflow/stream_executor/cuda/cuda_gpu_executor.cc:937] successful NUMA node read from SysFS had negative value (-1), but there must be at least one NUMA node, so returning NUMA node zero\n",
      "2022-06-06 05:50:13.003979: I tensorflow/stream_executor/cuda/cuda_gpu_executor.cc:937] successful NUMA node read from SysFS had negative value (-1), but there must be at least one NUMA node, so returning NUMA node zero\n",
      "2022-06-06 05:50:16.462145: I tensorflow/stream_executor/cuda/cuda_gpu_executor.cc:937] successful NUMA node read from SysFS had negative value (-1), but there must be at least one NUMA node, so returning NUMA node zero\n",
      "2022-06-06 05:50:16.463332: I tensorflow/stream_executor/cuda/cuda_gpu_executor.cc:937] successful NUMA node read from SysFS had negative value (-1), but there must be at least one NUMA node, so returning NUMA node zero\n",
      "2022-06-06 05:50:16.464396: I tensorflow/stream_executor/cuda/cuda_gpu_executor.cc:937] successful NUMA node read from SysFS had negative value (-1), but there must be at least one NUMA node, so returning NUMA node zero\n",
      "2022-06-06 05:50:16.465318: I tensorflow/core/common_runtime/gpu/gpu_device.cc:1510] Created device /job:localhost/replica:0/task:0/device:GPU:0 with 15403 MB memory:  -> device: 0, name: Tesla P100-PCIE-16GB, pci bus id: 0000:00:04.0, compute capability: 6.0\n"
     ]
    }
   ],
   "source": [
    "EPOCHS        = 25\n",
    "early_stoping = EarlyStopping(monitor = 'val_auc',patience = 5,restore_best_weights=True, verbose=1)\n",
    "callbacks     = [early_stoping]\n",
    "metrics       = [tf.keras.metrics.AUC(name='auc')]"
   ]
  },
  {
   "cell_type": "code",
   "execution_count": 12,
   "id": "c4ff2ce0",
   "metadata": {
    "execution": {
     "iopub.execute_input": "2022-06-06T05:50:16.888007Z",
     "iopub.status.busy": "2022-06-06T05:50:16.887549Z",
     "iopub.status.idle": "2022-06-06T05:55:06.854925Z",
     "shell.execute_reply": "2022-06-06T05:55:06.853627Z"
    },
    "papermill": {
     "duration": 289.994367,
     "end_time": "2022-06-06T05:55:06.857697",
     "exception": false,
     "start_time": "2022-06-06T05:50:16.863330",
     "status": "completed"
    },
    "tags": []
   },
   "outputs": [
    {
     "name": "stdout",
     "output_type": "stream",
     "text": [
      "Downloading data from https://storage.googleapis.com/tensorflow/keras-applications/inception_v3/inception_v3_weights_tf_dim_ordering_tf_kernels_notop.h5\n",
      "87916544/87910968 [==============================] - 3s 0us/step\n",
      "87924736/87910968 [==============================] - 3s 0us/step\n",
      "No Layers Trainable: Using Base Model Weights\n"
     ]
    },
    {
     "name": "stderr",
     "output_type": "stream",
     "text": [
      "/opt/conda/lib/python3.7/site-packages/keras/optimizer_v2/optimizer_v2.py:356: UserWarning: The `lr` argument is deprecated, use `learning_rate` instead.\n",
      "  \"The `lr` argument is deprecated, use `learning_rate` instead.\")\n"
     ]
    },
    {
     "name": "stdout",
     "output_type": "stream",
     "text": [
      "Model: \"sequential\"\n",
      "_________________________________________________________________\n",
      "Layer (type)                 Output Shape              Param #   \n",
      "=================================================================\n",
      "inception_v3 (Functional)    (None, 4, 5, 2048)        21802784  \n",
      "_________________________________________________________________\n",
      "dropout (Dropout)            (None, 4, 5, 2048)        0         \n",
      "_________________________________________________________________\n",
      "batch_normalization (BatchNo (None, 4, 5, 2048)        8192      \n",
      "_________________________________________________________________\n",
      "flatten (Flatten)            (None, 40960)             0         \n",
      "_________________________________________________________________\n",
      "dense (Dense)                (None, 512)               20972032  \n",
      "_________________________________________________________________\n",
      "dense_1 (Dense)              (None, 4)                 2052      \n",
      "=================================================================\n",
      "Total params: 42,785,060\n",
      "Trainable params: 20,978,180\n",
      "Non-trainable params: 21,806,880\n",
      "_________________________________________________________________\n"
     ]
    },
    {
     "name": "stderr",
     "output_type": "stream",
     "text": [
      "2022-06-06 05:50:24.260563: I tensorflow/compiler/mlir/mlir_graph_optimization_pass.cc:185] None of the MLIR Optimization Passes are enabled (registered 2)\n"
     ]
    },
    {
     "name": "stdout",
     "output_type": "stream",
     "text": [
      "Epoch 1/25\n"
     ]
    },
    {
     "name": "stderr",
     "output_type": "stream",
     "text": [
      "2022-06-06 05:50:31.628292: I tensorflow/stream_executor/cuda/cuda_dnn.cc:369] Loaded cuDNN version 8005\n"
     ]
    },
    {
     "name": "stdout",
     "output_type": "stream",
     "text": [
      "128/128 - 27s - loss: 2.2309 - auc: 0.8184 - val_loss: 0.7320 - val_auc: 0.9093\n",
      "Epoch 2/25\n",
      "128/128 - 9s - loss: 0.6335 - auc: 0.9251 - val_loss: 0.7110 - val_auc: 0.9076\n",
      "Epoch 3/25\n",
      "128/128 - 9s - loss: 0.4618 - auc: 0.9617 - val_loss: 0.5216 - val_auc: 0.9510\n",
      "Epoch 4/25\n",
      "128/128 - 9s - loss: 0.3367 - auc: 0.9796 - val_loss: 0.4564 - val_auc: 0.9627\n",
      "Epoch 5/25\n",
      "128/128 - 9s - loss: 0.2498 - auc: 0.9886 - val_loss: 0.3736 - val_auc: 0.9750\n",
      "Epoch 6/25\n",
      "128/128 - 9s - loss: 0.1912 - auc: 0.9933 - val_loss: 0.3719 - val_auc: 0.9745\n",
      "Epoch 7/25\n",
      "128/128 - 10s - loss: 0.1630 - auc: 0.9949 - val_loss: 0.4961 - val_auc: 0.9639\n",
      "Epoch 8/25\n",
      "128/128 - 9s - loss: 0.1506 - auc: 0.9956 - val_loss: 0.4467 - val_auc: 0.9667\n",
      "Epoch 9/25\n",
      "128/128 - 10s - loss: 0.1207 - auc: 0.9964 - val_loss: 0.3471 - val_auc: 0.9791\n",
      "Epoch 10/25\n",
      "128/128 - 10s - loss: 0.1085 - auc: 0.9976 - val_loss: 0.4403 - val_auc: 0.9697\n",
      "Epoch 11/25\n",
      "128/128 - 10s - loss: 0.0872 - auc: 0.9983 - val_loss: 0.3433 - val_auc: 0.9791\n",
      "Epoch 12/25\n",
      "128/128 - 9s - loss: 0.0790 - auc: 0.9988 - val_loss: 0.4348 - val_auc: 0.9688\n",
      "Epoch 13/25\n",
      "128/128 - 11s - loss: 0.0683 - auc: 0.9990 - val_loss: 0.3898 - val_auc: 0.9764\n",
      "Epoch 14/25\n",
      "128/128 - 9s - loss: 0.0923 - auc: 0.9977 - val_loss: 0.3600 - val_auc: 0.9779\n",
      "Epoch 15/25\n",
      "128/128 - 9s - loss: 0.0590 - auc: 0.9989 - val_loss: 0.4543 - val_auc: 0.9699\n",
      "Epoch 16/25\n",
      "128/128 - 9s - loss: 0.0946 - auc: 0.9976 - val_loss: 0.3945 - val_auc: 0.9757\n",
      "Epoch 17/25\n",
      "128/128 - 10s - loss: 0.0622 - auc: 0.9988 - val_loss: 0.3816 - val_auc: 0.9777\n",
      "Epoch 18/25\n",
      "128/128 - 9s - loss: 0.0529 - auc: 0.9992 - val_loss: 0.4582 - val_auc: 0.9726\n",
      "Epoch 19/25\n",
      "128/128 - 9s - loss: 0.0629 - auc: 0.9989 - val_loss: 0.3458 - val_auc: 0.9802\n",
      "Epoch 20/25\n",
      "128/128 - 9s - loss: 0.0800 - auc: 0.9985 - val_loss: 0.4328 - val_auc: 0.9761\n",
      "Epoch 21/25\n",
      "128/128 - 9s - loss: 0.0795 - auc: 0.9979 - val_loss: 0.4626 - val_auc: 0.9726\n",
      "Epoch 22/25\n",
      "128/128 - 9s - loss: 0.0724 - auc: 0.9981 - val_loss: 0.4331 - val_auc: 0.9735\n",
      "Epoch 23/25\n",
      "128/128 - 9s - loss: 0.0396 - auc: 0.9994 - val_loss: 0.4534 - val_auc: 0.9715\n",
      "Epoch 24/25\n",
      "128/128 - 10s - loss: 0.0442 - auc: 0.9991 - val_loss: 0.4131 - val_auc: 0.9759\n",
      "Epoch 25/25\n",
      "128/128 - 9s - loss: 0.0476 - auc: 0.9990 - val_loss: 0.3841 - val_auc: 0.9784\n"
     ]
    }
   ],
   "source": [
    "conv_base = InceptionV3(weights = 'imagenet', include_top = False, input_shape = (*IMG_SIZE, 3))\n",
    "freeze_layers(conv_base,trainable_layers='none')\n",
    "model = build_transfer_model(conv_base,dropout=0.4,dense_node =512,learn_rate=0.001,metric=metrics)\n",
    "tic = time.perf_counter()\n",
    "history = model.fit(\n",
    "    train_gen,\n",
    "    epochs           = EPOCHS,\n",
    "    validation_data  = val_gen,\n",
    "    verbose          = 2,\n",
    "   # callbacks        = callbacks  \n",
    ")\n",
    "\n"
   ]
  },
  {
   "cell_type": "code",
   "execution_count": 13,
   "id": "3bebd560",
   "metadata": {
    "execution": {
     "iopub.execute_input": "2022-06-06T05:55:06.915458Z",
     "iopub.status.busy": "2022-06-06T05:55:06.914973Z",
     "iopub.status.idle": "2022-06-06T05:55:10.362441Z",
     "shell.execute_reply": "2022-06-06T05:55:10.361471Z"
    },
    "papermill": {
     "duration": 3.479896,
     "end_time": "2022-06-06T05:55:10.365285",
     "exception": false,
     "start_time": "2022-06-06T05:55:06.885389",
     "status": "completed"
    },
    "tags": []
   },
   "outputs": [],
   "source": [
    "y_prob = model.predict(test_gen)\n",
    "y_pred = y_prob.argmax(axis=-1)\n",
    "\n",
    "y_actual = test_gen.classes\n"
   ]
  },
  {
   "cell_type": "code",
   "execution_count": 14,
   "id": "2b2b3b01",
   "metadata": {
    "execution": {
     "iopub.execute_input": "2022-06-06T05:55:10.423291Z",
     "iopub.status.busy": "2022-06-06T05:55:10.422923Z",
     "iopub.status.idle": "2022-06-06T05:55:12.859468Z",
     "shell.execute_reply": "2022-06-06T05:55:12.858289Z"
    },
    "papermill": {
     "duration": 2.468996,
     "end_time": "2022-06-06T05:55:12.862276",
     "exception": false,
     "start_time": "2022-06-06T05:55:10.393280",
     "status": "completed"
    },
    "tags": []
   },
   "outputs": [
    {
     "name": "stdout",
     "output_type": "stream",
     "text": [
      "\n",
      " Model AUC on Test Data:81.0%\n",
      "------------------------------\n",
      "              precision    recall  f1-score   support\n",
      "\n",
      "        mild       0.83      0.11      0.19       179\n",
      "    moderate       1.00      0.08      0.15        12\n",
      "      normal       0.63      0.88      0.73       640\n",
      "   very-mild       0.58      0.47      0.52       448\n",
      "\n",
      "    accuracy                           0.62      1279\n",
      "   macro avg       0.76      0.38      0.40      1279\n",
      "weighted avg       0.64      0.62      0.58      1279\n",
      "\n"
     ]
    },
    {
     "data": {
      "image/png": "[encoded data removed]",
      "text/plain": [
       "<Figure size 864x864 with 1 Axes>"
      ]
     },
     "metadata": {
      "needs_background": "light"
     },
     "output_type": "display_data"
    }
   ],
   "source": [
    "def plot_training_metrics(train_hist,model,test_gen,y_actual,y_pred,classes):\n",
    "\n",
    "    test_loss, test_metric = model.evaluate(test_gen,verbose = False)\n",
    "    results       = round(test_metric,2)*100 \n",
    "    results_title =\"\\n Model AUC on Test Data:{}%\".format(results)\n",
    "    print(results_title.format(results))\n",
    "    print(len(results_title) * \"-\")\n",
    "    \n",
    "    print(classification_report(y_actual, y_pred, target_names=classes))\n",
    "\n",
    "    history_dict    = train_hist.history\n",
    "    loss_values     = history_dict['loss']\n",
    "    val_loss_values = history_dict['val_loss']\n",
    "    auc_values      = history_dict['auc']\n",
    "    val_auc_values  = history_dict['val_auc']\n",
    "    epochs          = range(1, len(history_dict['auc']) + 1)\n",
    "\n",
    "    max_auc = np.max(val_auc_values)\n",
    "    min_loss = np.min(val_loss_values)\n",
    "    plt.subplots(figsize=(12,12))\n",
    "    cm = confusion_matrix(y_actual, y_pred)\n",
    "\n",
    "    plt.imshow(cm, interpolation='nearest', cmap=plt.cm.BuPu)\n",
    "    plt.title(\"Confusion Matrix \\n AUC:{}%\".format(results))\n",
    "    tick_marks = np.arange(len(classes))\n",
    "    plt.xticks(tick_marks, classes, rotation=45)\n",
    "    plt.yticks(tick_marks, classes)\n",
    "\n",
    "    threshold = cm.max() / 2.\n",
    "    for r, c in itertools.product(range(cm.shape[0]), range(cm.shape[1])):\n",
    "        plt.text(c, r, format(cm[r, c], 'd'),\n",
    "                 horizontalalignment=\"center\",\n",
    "                 color=\"white\" if cm[r, c] > threshold else \"black\")\n",
    "\n",
    "    plt.ylabel('True label')\n",
    "    plt.xlabel('Predicted label')\n",
    "    plt.tight_layout()\n",
    "    plt.show()\n",
    "plot_training_metrics(history,model,test_gen,y_actual,y_pred,['mild','moderate','normal','very-mild'])"
   ]
  },
  {
   "cell_type": "code",
   "execution_count": 15,
   "id": "822995ca",
   "metadata": {
    "execution": {
     "iopub.execute_input": "2022-06-06T05:55:12.923305Z",
     "iopub.status.busy": "2022-06-06T05:55:12.922254Z",
     "iopub.status.idle": "2022-06-06T05:56:13.433544Z",
     "shell.execute_reply": "2022-06-06T05:56:13.432257Z"
    },
    "papermill": {
     "duration": 60.546226,
     "end_time": "2022-06-06T05:56:13.437821",
     "exception": false,
     "start_time": "2022-06-06T05:55:12.891595",
     "status": "completed"
    },
    "tags": []
   },
   "outputs": [
    {
     "name": "stderr",
     "output_type": "stream",
     "text": [
      "2022-06-06 05:55:36.590496: W tensorflow/python/util/util.cc:348] Sets are not currently considered sequences, but this may change in the future, so consider avoiding using them.\n"
     ]
    }
   ],
   "source": [
    "model.save(os.path.join(DIR_MODELS,'base_model'))"
   ]
  },
  {
   "cell_type": "code",
   "execution_count": 16,
   "id": "e9440c71",
   "metadata": {
    "execution": {
     "iopub.execute_input": "2022-06-06T05:56:13.515955Z",
     "iopub.status.busy": "2022-06-06T05:56:13.515502Z",
     "iopub.status.idle": "2022-06-06T05:56:33.158672Z",
     "shell.execute_reply": "2022-06-06T05:56:33.157390Z"
    },
    "papermill": {
     "duration": 19.694821,
     "end_time": "2022-06-06T05:56:33.161531",
     "exception": false,
     "start_time": "2022-06-06T05:56:13.466710",
     "status": "completed"
    },
    "tags": []
   },
   "outputs": [],
   "source": [
    "imported = tf.saved_model.load('./models/base_model')"
   ]
  },
  {
   "cell_type": "code",
   "execution_count": 17,
   "id": "9544a272",
   "metadata": {
    "execution": {
     "iopub.execute_input": "2022-06-06T05:56:33.218776Z",
     "iopub.status.busy": "2022-06-06T05:56:33.218344Z",
     "iopub.status.idle": "2022-06-06T05:56:35.148293Z",
     "shell.execute_reply": "2022-06-06T05:56:35.147200Z"
    },
    "papermill": {
     "duration": 1.96152,
     "end_time": "2022-06-06T05:56:35.151084",
     "exception": false,
     "start_time": "2022-06-06T05:56:33.189564",
     "status": "completed"
    },
    "tags": []
   },
   "outputs": [],
   "source": [
    "y_prob = model.predict(test_gen)\n",
    "y_pred = y_prob.argmax(axis=-1)\n",
    "\n",
    "y_actual = test_gen.classes"
   ]
  },
  {
   "cell_type": "code",
   "execution_count": 18,
   "id": "3834dc21",
   "metadata": {
    "execution": {
     "iopub.execute_input": "2022-06-06T05:56:35.211329Z",
     "iopub.status.busy": "2022-06-06T05:56:35.210325Z",
     "iopub.status.idle": "2022-06-06T05:56:35.217331Z",
     "shell.execute_reply": "2022-06-06T05:56:35.216256Z"
    },
    "papermill": {
     "duration": 0.041697,
     "end_time": "2022-06-06T05:56:35.221263",
     "exception": false,
     "start_time": "2022-06-06T05:56:35.179566",
     "status": "completed"
    },
    "tags": []
   },
   "outputs": [
    {
     "name": "stdout",
     "output_type": "stream",
     "text": [
      "Predicted Class:  NonDememted                   Actual Class:  MildDememted\n",
      "Predicted Class:  NonDememted                   Actual Class:  MildDememted\n",
      "Predicted Class:  MildDememted                   Actual Class:  MildDememted\n",
      "Predicted Class:  VeryMildDemented                   Actual Class:  MildDememted\n",
      "Predicted Class:  NonDememted                   Actual Class:  MildDememted\n",
      "Predicted Class:  VeryMildDemented                   Actual Class:  MildDememted\n",
      "Predicted Class:  VeryMildDemented                   Actual Class:  MildDememted\n",
      "Predicted Class:  MildDememted                   Actual Class:  MildDememted\n",
      "Predicted Class:  NonDememted                   Actual Class:  MildDememted\n",
      "Predicted Class:  MildDememted                   Actual Class:  MildDememted\n"
     ]
    }
   ],
   "source": [
    "for i in range(0,10):\n",
    "    print('Predicted Class:  '+CLASS_LIST[y_pred[i]]+'                   Actual Class:  ' + CLASS_LIST[y_actual[i]])"
   ]
  },
  {
   "cell_type": "code",
   "execution_count": null,
   "id": "2d1a6878",
   "metadata": {
    "papermill": {
     "duration": 0.028773,
     "end_time": "2022-06-06T05:56:35.279528",
     "exception": false,
     "start_time": "2022-06-06T05:56:35.250755",
     "status": "completed"
    },
    "tags": []
   },
   "outputs": [],
   "source": []
  }
 ],
 "metadata": {
  "kernelspec": {
   "display_name": "Python 3",
   "language": "python",
   "name": "python3"
  },
  "language_info": {
   "codemirror_mode": {
    "name": "ipython",
    "version": 3
   },
   "file_extension": ".py",
   "mimetype": "text/x-python",
   "name": "python",
   "nbconvert_exporter": "python",
   "pygments_lexer": "ipython3",
   "version": "3.7.12"
  },
  "papermill": {
   "default_parameters": {},
   "duration": 455.951489,
   "end_time": "2022-06-06T05:56:39.081507",
   "environment_variables": {},
   "exception": null,
   "input_path": "__notebook__.ipynb",
   "output_path": "__notebook__.ipynb",
   "parameters": {},
   "start_time": "2022-06-06T05:49:03.130018",
   "version": "2.3.4"
  }
 },
 "nbformat": 4,
 "nbformat_minor": 5
}
